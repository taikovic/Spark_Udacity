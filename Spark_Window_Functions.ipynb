{
 "cells": [
  {
   "cell_type": "markdown",
   "metadata": {},
   "source": [
    "# Spark Window functions"
   ]
  },
  {
   "cell_type": "code",
   "execution_count": 11,
   "metadata": {},
   "outputs": [],
   "source": [
    "import sys\n",
    "from pyspark.sql import SparkSession\n",
    "import pyspark.sql.types as t\n",
    "import pyspark.sql.functions as f\n",
    "from pyspark.sql.window import Window\n",
    "from pyspark.sql.functions import desc"
   ]
  },
  {
   "cell_type": "code",
   "execution_count": 2,
   "metadata": {},
   "outputs": [],
   "source": [
    "spark = SparkSession.builder.master(\"local\").appName(\"Windows\") \\\n",
    "        .getOrCreate()"
   ]
  },
  {
   "cell_type": "code",
   "execution_count": 3,
   "metadata": {},
   "outputs": [],
   "source": [
    "schema = t.StructType([t.StructField('depName',t.StringType(),False),\n",
    "                       t.StructField('empNo',t.IntegerType(),False),\n",
    "                       t.StructField('salary',t.IntegerType(),False),    \n",
    "])"
   ]
  },
  {
   "cell_type": "code",
   "execution_count": 4,
   "metadata": {},
   "outputs": [],
   "source": [
    "data = [\n",
    "    (\"sales\",1,5000),\n",
    "    (\"personnel\",2,3900),\n",
    "    (\"sales\",3,4800),\n",
    "    (\"sales\",4,4800),\n",
    "    (\"personnel\",5,3500),\n",
    "    (\"develop\",7,4200),\n",
    "    (\"develop\",8,6000),\n",
    "    (\"develop\",9,4500),\n",
    "    (\"develop\",10,5200),\n",
    "    (\"develop\",11,5200)\n",
    "]"
   ]
  },
  {
   "cell_type": "code",
   "execution_count": 6,
   "metadata": {},
   "outputs": [
    {
     "name": "stderr",
     "output_type": "stream",
     "text": [
      "/home/taikovic/anaconda3/lib/python3.7/importlib/_bootstrap.py:219: RuntimeWarning: numpy.ufunc size changed, may indicate binary incompatibility. Expected 192 from C header, got 216 from PyObject\n",
      "  return f(*args, **kwds)\n",
      "/home/taikovic/anaconda3/lib/python3.7/importlib/_bootstrap.py:219: RuntimeWarning: numpy.ufunc size changed, may indicate binary incompatibility. Expected 192 from C header, got 216 from PyObject\n",
      "  return f(*args, **kwds)\n"
     ]
    }
   ],
   "source": [
    "sdf = spark.createDataFrame(data,schema=schema)"
   ]
  },
  {
   "cell_type": "code",
   "execution_count": 7,
   "metadata": {},
   "outputs": [
    {
     "name": "stdout",
     "output_type": "stream",
     "text": [
      "+---------+-----+------+\n",
      "|  depName|empNo|salary|\n",
      "+---------+-----+------+\n",
      "|    sales|    1|  5000|\n",
      "|personnel|    2|  3900|\n",
      "|    sales|    3|  4800|\n",
      "|    sales|    4|  4800|\n",
      "|personnel|    5|  3500|\n",
      "|  develop|    7|  4200|\n",
      "|  develop|    8|  6000|\n",
      "|  develop|    9|  4500|\n",
      "|  develop|   10|  5200|\n",
      "|  develop|   11|  5200|\n",
      "+---------+-----+------+\n",
      "\n"
     ]
    }
   ],
   "source": [
    "sdf.show()"
   ]
  },
  {
   "cell_type": "markdown",
   "metadata": {},
   "source": [
    "## let's calculate average salary by department name:"
   ]
  },
  {
   "cell_type": "code",
   "execution_count": 21,
   "metadata": {},
   "outputs": [
    {
     "name": "stdout",
     "output_type": "stream",
     "text": [
      "+---------+-----------------+\n",
      "|  depName|          average|\n",
      "+---------+-----------------+\n",
      "|personnel|           3700.0|\n",
      "|    sales|4866.666666666667|\n",
      "|  develop|           5020.0|\n",
      "+---------+-----------------+\n",
      "\n"
     ]
    }
   ],
   "source": [
    "sdf_avg_salary_by_dpt = sdf.groupBy(\"depName\").agg(f.avg(\"salary\").alias('average')).sort('average').show()"
   ]
  },
  {
   "cell_type": "markdown",
   "metadata": {},
   "source": [
    "## with windows: get average for every line:"
   ]
  },
  {
   "cell_type": "code",
   "execution_count": 22,
   "metadata": {},
   "outputs": [],
   "source": [
    "byDepName = Window.partitionBy(\"depName\")\n",
    "sdf_with_avg_salary = sdf.withColumn(\"average\",f.avg('salary').over(byDepName))"
   ]
  },
  {
   "cell_type": "code",
   "execution_count": 25,
   "metadata": {},
   "outputs": [
    {
     "name": "stdout",
     "output_type": "stream",
     "text": [
      "+---------+-----+------+-----------------+\n",
      "|  depName|empNo|salary|          average|\n",
      "+---------+-----+------+-----------------+\n",
      "|personnel|    2|  3900|           3700.0|\n",
      "|personnel|    5|  3500|           3700.0|\n",
      "|    sales|    1|  5000|4866.666666666667|\n",
      "|    sales|    3|  4800|4866.666666666667|\n",
      "|    sales|    4|  4800|4866.666666666667|\n",
      "|  develop|    7|  4200|           5020.0|\n",
      "|  develop|    8|  6000|           5020.0|\n",
      "|  develop|    9|  4500|           5020.0|\n",
      "|  develop|   10|  5200|           5020.0|\n",
      "|  develop|   11|  5200|           5020.0|\n",
      "+---------+-----+------+-----------------+\n",
      "\n"
     ]
    }
   ],
   "source": [
    "sdf_with_avg_salary.sort('average').show()"
   ]
  },
  {
   "cell_type": "markdown",
   "metadata": {},
   "source": [
    "## WindowSpec: rowsBetween"
   ]
  },
  {
   "cell_type": "code",
   "execution_count": 27,
   "metadata": {},
   "outputs": [],
   "source": [
    "windowSpec = Window.rowsBetween(-2,1)\n",
    "#frame de 4 lignes: 2 precedents, la courante et une suivante"
   ]
  },
  {
   "cell_type": "code",
   "execution_count": 28,
   "metadata": {},
   "outputs": [
    {
     "name": "stdout",
     "output_type": "stream",
     "text": [
      "+---------+-----+------+-----------+----------+----------+\n",
      "|  depName|empNo|salary|first_empNo|last_empNo|frame_size|\n",
      "+---------+-----+------+-----------+----------+----------+\n",
      "|    sales|    1|  5000|          1|         2|         2|\n",
      "|personnel|    2|  3900|          1|         3|         3|\n",
      "|    sales|    3|  4800|          1|         4|         4|\n",
      "|    sales|    4|  4800|          2|         5|         4|\n",
      "|personnel|    5|  3500|          3|         7|         4|\n",
      "|  develop|    7|  4200|          4|         8|         4|\n",
      "|  develop|    8|  6000|          5|         9|         4|\n",
      "|  develop|    9|  4500|          7|        10|         4|\n",
      "|  develop|   10|  5200|          8|        11|         4|\n",
      "|  develop|   11|  5200|          9|        11|         3|\n",
      "+---------+-----+------+-----------+----------+----------+\n",
      "\n"
     ]
    }
   ],
   "source": [
    "sdf.withColumn(\"first_empNo\",f.first(\"empNo\").over(windowSpec)) \\\n",
    "    .withColumn(\"last_empNo\",f.last(\"empNo\").over(windowSpec)) \\\n",
    "    .withColumn(\"frame_size\",f.count(\"empNo\").over(windowSpec)) \\\n",
    "    .show()"
   ]
  },
  {
   "cell_type": "markdown",
   "metadata": {},
   "source": [
    "## windowSpec: rangeBetween"
   ]
  },
  {
   "cell_type": "code",
   "execution_count": 29,
   "metadata": {},
   "outputs": [],
   "source": [
    "windowSpec = Window.orderBy(\"salary\").rangeBetween(-1000,500)"
   ]
  },
  {
   "cell_type": "code",
   "execution_count": 30,
   "metadata": {},
   "outputs": [
    {
     "name": "stdout",
     "output_type": "stream",
     "text": [
      "+---------+-----+------+-----------+-----------+----------+-----------+\n",
      "|  depName|empNo|salary|      range|frame_first|frame_last|frame_count|\n",
      "+---------+-----+------+-----------+-----------+----------+-----------+\n",
      "|personnel|    5|  3500|[2500,4000]|       3500|      3900|          2|\n",
      "|personnel|    2|  3900|[2900,4400]|       3500|      4200|          3|\n",
      "|  develop|    7|  4200|[3200,4700]|       3500|      4500|          4|\n",
      "|  develop|    9|  4500|[3500,5000]|       3500|      5000|          7|\n",
      "|    sales|    3|  4800|[3800,5300]|       3900|      5200|          8|\n",
      "|    sales|    4|  4800|[3800,5300]|       3900|      5200|          8|\n",
      "|    sales|    1|  5000|[4000,5500]|       4200|      5200|          7|\n",
      "|  develop|   10|  5200|[4200,5700]|       4200|      5200|          7|\n",
      "|  develop|   11|  5200|[4200,5700]|       4200|      5200|          7|\n",
      "|  develop|    8|  6000|[5000,6500]|       5000|      6000|          4|\n",
      "+---------+-----+------+-----------+-----------+----------+-----------+\n",
      "\n"
     ]
    }
   ],
   "source": [
    "sdf.withColumn(\"range\",f.concat(f.lit(\"[\"), f.col(\"salary\")-1000,f.lit(\",\"),f.col(\"salary\")+500,f.lit(\"]\"))) \\\n",
    "    .withColumn(\"frame_first\",f.first(\"salary\").over(windowSpec)) \\\n",
    "    .withColumn(\"frame_last\",f.last(\"salary\").over(windowSpec)) \\\n",
    "    .withColumn(\"frame_count\",f.count(\"empNo\").over(windowSpec)) \\\n",
    "    .show()"
   ]
  },
  {
   "cell_type": "markdown",
   "metadata": {},
   "source": [
    "## top 2 salaries in each department ?"
   ]
  },
  {
   "cell_type": "code",
   "execution_count": 41,
   "metadata": {},
   "outputs": [],
   "source": [
    "windowSpec = Window.partitionBy(\"depName\").orderBy(f.col(\"salary\").desc())"
   ]
  },
  {
   "cell_type": "code",
   "execution_count": 42,
   "metadata": {},
   "outputs": [
    {
     "name": "stdout",
     "output_type": "stream",
     "text": [
      "+---------+-----+------+----+\n",
      "|  depName|empNo|salary|rank|\n",
      "+---------+-----+------+----+\n",
      "|  develop|    8|  6000|   1|\n",
      "|  develop|   10|  5200|   2|\n",
      "|  develop|   11|  5200|   2|\n",
      "|    sales|    1|  5000|   1|\n",
      "|    sales|    3|  4800|   2|\n",
      "|    sales|    4|  4800|   2|\n",
      "|personnel|    2|  3900|   1|\n",
      "|personnel|    5|  3500|   2|\n",
      "+---------+-----+------+----+\n",
      "\n"
     ]
    }
   ],
   "source": [
    "sdf.withColumn(\"rank\",f.dense_rank().over(windowSpec)) \\\n",
    "    .where(f.col(\"rank\") <= 2).show()"
   ]
  },
  {
   "cell_type": "markdown",
   "metadata": {},
   "source": [
    "## For each employee in the same department, what is the difference in income compared to the highest paid employee ?"
   ]
  },
  {
   "cell_type": "code",
   "execution_count": 48,
   "metadata": {},
   "outputs": [
    {
     "name": "stdout",
     "output_type": "stream",
     "text": [
      "+---------+-----+------+----------+\n",
      "|  depName|empNo|salary|Difference|\n",
      "+---------+-----+------+----------+\n",
      "|  develop|    8|  6000|         0|\n",
      "|  develop|   10|  5200|       800|\n",
      "|  develop|   11|  5200|       800|\n",
      "|  develop|    9|  4500|      1500|\n",
      "|  develop|    7|  4200|      1800|\n",
      "|    sales|    1|  5000|         0|\n",
      "|    sales|    3|  4800|       200|\n",
      "|    sales|    4|  4800|       200|\n",
      "|personnel|    2|  3900|         0|\n",
      "|personnel|    5|  3500|       400|\n",
      "+---------+-----+------+----------+\n",
      "\n"
     ]
    }
   ],
   "source": [
    "# 1. Using Windows: \n",
    "sdf.withColumn(\"Difference\", f.max(f.col(\"salary\")).over(windowSpec)  - f.col(\"salary\") )\\\n",
    "    .show()"
   ]
  },
  {
   "cell_type": "code",
   "execution_count": 49,
   "metadata": {},
   "outputs": [
    {
     "name": "stdout",
     "output_type": "stream",
     "text": [
      "+---------+----+\n",
      "|  depName| max|\n",
      "+---------+----+\n",
      "|  develop|6000|\n",
      "|    sales|5000|\n",
      "|personnel|3900|\n",
      "+---------+----+\n",
      "\n"
     ]
    }
   ],
   "source": [
    "# 2. Using joins:\n",
    "max_salary = sdf.groupBy(\"depName\").agg(f.max(f.col(\"salary\"))\\\n",
    "                                        .alias('max'))\n",
    "max_salary.show()"
   ]
  },
  {
   "cell_type": "code",
   "execution_count": 55,
   "metadata": {},
   "outputs": [
    {
     "name": "stdout",
     "output_type": "stream",
     "text": [
      "+---------+-----+------+----+----------+\n",
      "|  depName|empNo|salary| max|difference|\n",
      "+---------+-----+------+----+----------+\n",
      "|  develop|    7|  4200|6000|      1800|\n",
      "|  develop|    8|  6000|6000|         0|\n",
      "|  develop|    9|  4500|6000|      1500|\n",
      "|  develop|   10|  5200|6000|       800|\n",
      "|  develop|   11|  5200|6000|       800|\n",
      "|    sales|    1|  5000|5000|         0|\n",
      "|    sales|    3|  4800|5000|       200|\n",
      "|    sales|    4|  4800|5000|       200|\n",
      "|personnel|    2|  3900|3900|         0|\n",
      "|personnel|    5|  3500|3900|       400|\n",
      "+---------+-----+------+----+----------+\n",
      "\n"
     ]
    }
   ],
   "source": [
    "sdf.join(max_salary,'depName').withColumn(\"difference\", f.col('max') - f.col('salary')) \\\n",
    "    .show()"
   ]
  },
  {
   "cell_type": "markdown",
   "metadata": {},
   "source": [
    "## Cumulative salary Sum:"
   ]
  },
  {
   "cell_type": "code",
   "execution_count": 57,
   "metadata": {},
   "outputs": [],
   "source": [
    "windowSpec = Window.partitionBy('depName').orderBy(f.col(\"salary\").asc())\\\n",
    "        .rowsBetween(Window.unboundedPreceding,Window.currentRow)"
   ]
  },
  {
   "cell_type": "code",
   "execution_count": 58,
   "metadata": {},
   "outputs": [
    {
     "name": "stdout",
     "output_type": "stream",
     "text": [
      "+---------+-----+------+---------+\n",
      "|  depName|empNo|salary|cumul_sum|\n",
      "+---------+-----+------+---------+\n",
      "|  develop|    7|  4200|     4200|\n",
      "|  develop|    9|  4500|     8700|\n",
      "|  develop|   10|  5200|    13900|\n",
      "|  develop|   11|  5200|    19100|\n",
      "|  develop|    8|  6000|    25100|\n",
      "|    sales|    3|  4800|     4800|\n",
      "|    sales|    4|  4800|     9600|\n",
      "|    sales|    1|  5000|    14600|\n",
      "|personnel|    5|  3500|     3500|\n",
      "|personnel|    2|  3900|     7400|\n",
      "+---------+-----+------+---------+\n",
      "\n"
     ]
    }
   ],
   "source": [
    "sdf.withColumn(\"cumul_sum\",f.sum(f.col(\"salary\")).over(windowSpec)).show()"
   ]
  },
  {
   "cell_type": "markdown",
   "metadata": {},
   "source": [
    "## Lead & Lag:"
   ]
  },
  {
   "cell_type": "code",
   "execution_count": 59,
   "metadata": {},
   "outputs": [],
   "source": [
    "overCategory = Window.partitionBy('depName').orderBy(f.col(\"salary\").desc())"
   ]
  },
  {
   "cell_type": "code",
   "execution_count": 60,
   "metadata": {},
   "outputs": [
    {
     "name": "stdout",
     "output_type": "stream",
     "text": [
      "+---------+-----+------+----+----+\n",
      "|  depName|empNo|salary|lead| lag|\n",
      "+---------+-----+------+----+----+\n",
      "|  develop|    8|  6000|5200|null|\n",
      "|  develop|   10|  5200|5200|6000|\n",
      "|  develop|   11|  5200|4500|5200|\n",
      "|  develop|    9|  4500|4200|5200|\n",
      "|  develop|    7|  4200|null|4500|\n",
      "|    sales|    1|  5000|4800|null|\n",
      "|    sales|    3|  4800|4800|5000|\n",
      "|    sales|    4|  4800|null|4800|\n",
      "|personnel|    2|  3900|3500|null|\n",
      "|personnel|    5|  3500|null|3900|\n",
      "+---------+-----+------+----+----+\n",
      "\n"
     ]
    }
   ],
   "source": [
    "sdf.withColumn(\"lead\", f.lead('salary',1).over(overCategory)) \\\n",
    "    .withColumn(\"lag\", f.lag('salary',1).over(overCategory)).show()"
   ]
  }
 ],
 "metadata": {
  "kernelspec": {
   "display_name": "Python 3",
   "language": "python",
   "name": "python3"
  },
  "language_info": {
   "codemirror_mode": {
    "name": "ipython",
    "version": 3
   },
   "file_extension": ".py",
   "mimetype": "text/x-python",
   "name": "python",
   "nbconvert_exporter": "python",
   "pygments_lexer": "ipython3",
   "version": "3.7.3"
  }
 },
 "nbformat": 4,
 "nbformat_minor": 2
}
